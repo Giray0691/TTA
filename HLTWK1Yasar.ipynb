{
 "cells": [
  {
   "cell_type": "code",
   "execution_count": null,
   "metadata": {},
   "outputs": [],
   "source": [
    "# This is a guess the number game.\n",
    "import random\n",
    "print(\"Hello! What is your name?\")\n",
    "myName = input()\n",
    "number = random.randint(1, 10)\n",
    "print(\"Well, \"+ myName + \", I am thinking of a number between 1 and 10 can you guess \")\n",
    "guess=int(input(\"take a guess\"))\n",
    "if guess==5:\n",
    "    print(\"good job you are right\")  \n",
    "else:\n",
    "    print(\"please try once more\") \n"
   ]
  },
  {
   "cell_type": "code",
   "execution_count": 2,
   "metadata": {},
   "outputs": [
    {
     "name": "stdout",
     "output_type": "stream",
     "text": [
      "your guess was high, carry on!! Why is the equal sign is so humble?\n"
     ]
    }
   ],
   "source": [
    "#guess the number and generate a joke\n",
    "import random\n",
    "random_number = random.randint(1,100)\n",
    "win = False\n",
    "Turns =0\n",
    "while win==False:\n",
    "    Your_guess = input(\"Enter a number between 1 and 100\")\n",
    "    Turns +=1\n",
    "    if random_number==int(Your_guess):\n",
    "        print(\"Ohh finally! you took your time, I thought you never get there\")\n",
    "        print(\"Number of turns you have used: \",Turns)\n",
    "        win == True\n",
    "        break\n",
    "    else:\n",
    "     if random_number>int(Your_guess):\n",
    "        print(\"Your Guess was low carry on trying but hear this first whats is the favorite snake of Data People?\")\n",
    "     else:\n",
    "        print(\"your guess was high, carry on!! Why is the equal sign is so humble? Cuz it knows it aint less or greater than anything\")"
   ]
  },
  {
   "cell_type": "code",
   "execution_count": null,
   "metadata": {},
   "outputs": [],
   "source": [
    "user_name=input(\"please enter your name\")\n",
    "a=favourite_starter=input(\"starter meal\")\n",
    "b=favourite_main_course=input(\"main course\")\n",
    "c=with_a_glass_of=input(\"drink\")\n",
    "d=desert=input(\"desert\")\n",
    "print(\"hello\",user_name, \"your favourite starter is\",a,\"and followed by your favourite main course\",b,\"with a glass of\",c,\" but make sure you have a bit of room for mouth watering\" ,d, \"at the end\")"
   ]
  },
  {
   "cell_type": "code",
   "execution_count": null,
   "metadata": {},
   "outputs": [],
   "source": [
    " \n",
    "\n",
    "import math\n",
    "\n",
    "def add(x, y):\n",
    "    return x + y\n",
    "\n",
    "def subtract(x, y):\n",
    "    return x - y\n",
    "\n",
    "def multiply(x, y):\n",
    "    return x * y\n",
    "\n",
    "def divide(x, y):\n",
    "    return x / y\n",
    "\n",
    "def square(number):\n",
    "    return number**number\n",
    " \n",
    "\n",
    "\n",
    "\n",
    "print(\"Select operation.\")\n",
    "print(\"1.Add\")\n",
    "print(\"2.Subtract\")\n",
    "print(\"3.Multiply\")\n",
    "print(\"4.Divide\")\n",
    "print(\"5. Square of a number\")\n",
    "\n",
    "while True:\n",
    "    choice = input(\"select from one of the following(1/2/3/4/5): \")\n",
    "\n",
    "    # please select with the following options\n",
    "    if choice in ('1', '2', '3', '4'):\n",
    "        num1 = float(input(\"Enter first number: \"))\n",
    "        num2 = float(input(\"Enter second number: \"))\n",
    "\n",
    "    if choice in ('5'):\n",
    "        number = int(input(\" Please Enter an integer number: \"))   \n",
    "\n",
    "        if choice == '1':\n",
    "            print(num1, \"+\", num2, \"=\", add(num1, num2))\n",
    "\n",
    "        elif choice == '2':\n",
    "            print(num1, \"-\", num2, \"=\", subtract(num1, num2))\n",
    "\n",
    "        elif choice == '3':\n",
    "            print(num1, \"*\", num2, \"=\", multiply(num1, num2))\n",
    "\n",
    "        elif choice == '4':\n",
    "            print(num1, \"/\", num2, \"=\", divide(num1, num2))\n",
    "        \n",
    "        elif choice=='5':\n",
    "            print(\"The Square of a\", number, \"is:\", number**2)\n",
    "        \n",
    "        # want to do another calculation?\n",
    "        # terminate if no\n",
    "        next_calculation = input(\"another calculation? (yes/no): \")\n",
    "        if next_calculation == \"no\":\n",
    "          break\n",
    "    \n",
    "    else:\n",
    "        print(\"wrong entry\")"
   ]
  },
  {
   "cell_type": "code",
   "execution_count": null,
   "metadata": {},
   "outputs": [],
   "source": [
    "n = 2000\n",
    "while n >=800:\n",
    "    print(n)\n",
    "    n = n - 200"
   ]
  }
 ],
 "metadata": {
  "interpreter": {
   "hash": "fe44fef87f92f48a3a32707d0df204585f471652bc0ce87358a3ce712bc24db0"
  },
  "kernelspec": {
   "display_name": "Python 3.9.7 64-bit",
   "name": "python3"
  },
  "language_info": {
   "codemirror_mode": {
    "name": "ipython",
    "version": 3
   },
   "file_extension": ".py",
   "mimetype": "text/x-python",
   "name": "python",
   "nbconvert_exporter": "python",
   "pygments_lexer": "ipython3",
   "version": "3.9.7"
  },
  "orig_nbformat": 4
 },
 "nbformat": 4,
 "nbformat_minor": 2
}
